{
 "cells": [
  {
   "cell_type": "markdown",
   "metadata": {},
   "source": [
    "# Statistics"
   ]
  },
  {
   "cell_type": "code",
   "execution_count": 2,
   "metadata": {},
   "outputs": [],
   "source": [
    "import numpy as np\n",
    "import pandas as pd\n",
    "import matplotlib.pyplot as plt \n",
    "import seaborn as sns\n",
    "import scipy.stats as stats\n",
    "import random as rd"
   ]
  },
  {
   "cell_type": "markdown",
   "metadata": {},
   "source": [
    "## Summary Statistics"
   ]
  },
  {
   "cell_type": "markdown",
   "metadata": {},
   "source": [
    "N: Total Population\n",
    "\n",
    "n: Sample size\n",
    "\n",
    "M: Successes in Population\n",
    "\n",
    "x: Successes in Sample"
   ]
  },
  {
   "cell_type": "markdown",
   "metadata": {},
   "source": [
    "### Central Tendencies"
   ]
  },
  {
   "cell_type": "code",
   "execution_count": 3,
   "metadata": {},
   "outputs": [
    {
     "name": "stdout",
     "output_type": "stream",
     "text": [
      "69.25875\n",
      "65.0\n",
      "[60]\n"
     ]
    }
   ],
   "source": [
    "pokemon_df=pd.read_csv('./data/pokemon_data.csv')\n",
    "\n",
    "#using Numpy/Scipy to calc central tendencies of population\n",
    "print(np.mean(pokemon_df['HP'])) # mean\n",
    "print(np.median(pokemon_df['HP'])) # median\n",
    "print(stats.mode(pokemon_df['HP'])[0]) #mode, returns array"
   ]
  },
  {
   "cell_type": "code",
   "execution_count": 4,
   "metadata": {},
   "outputs": [
    {
     "data": {
      "text/html": [
       "<div>\n",
       "<style scoped>\n",
       "    .dataframe tbody tr th:only-of-type {\n",
       "        vertical-align: middle;\n",
       "    }\n",
       "\n",
       "    .dataframe tbody tr th {\n",
       "        vertical-align: top;\n",
       "    }\n",
       "\n",
       "    .dataframe thead th {\n",
       "        text-align: right;\n",
       "    }\n",
       "</style>\n",
       "<table border=\"1\" class=\"dataframe\">\n",
       "  <thead>\n",
       "    <tr style=\"text-align: right;\">\n",
       "      <th></th>\n",
       "      <th>#</th>\n",
       "      <th>HP</th>\n",
       "      <th>Attack</th>\n",
       "      <th>Defense</th>\n",
       "      <th>Sp. Atk</th>\n",
       "      <th>Sp. Def</th>\n",
       "      <th>Speed</th>\n",
       "      <th>Generation</th>\n",
       "    </tr>\n",
       "  </thead>\n",
       "  <tbody>\n",
       "    <tr>\n",
       "      <th>count</th>\n",
       "      <td>800.000000</td>\n",
       "      <td>800.000000</td>\n",
       "      <td>800.000000</td>\n",
       "      <td>800.000000</td>\n",
       "      <td>800.000000</td>\n",
       "      <td>800.000000</td>\n",
       "      <td>800.000000</td>\n",
       "      <td>800.00000</td>\n",
       "    </tr>\n",
       "    <tr>\n",
       "      <th>mean</th>\n",
       "      <td>362.813750</td>\n",
       "      <td>69.258750</td>\n",
       "      <td>79.001250</td>\n",
       "      <td>73.842500</td>\n",
       "      <td>72.820000</td>\n",
       "      <td>71.902500</td>\n",
       "      <td>68.277500</td>\n",
       "      <td>3.32375</td>\n",
       "    </tr>\n",
       "    <tr>\n",
       "      <th>std</th>\n",
       "      <td>208.343798</td>\n",
       "      <td>25.534669</td>\n",
       "      <td>32.457366</td>\n",
       "      <td>31.183501</td>\n",
       "      <td>32.722294</td>\n",
       "      <td>27.828916</td>\n",
       "      <td>29.060474</td>\n",
       "      <td>1.66129</td>\n",
       "    </tr>\n",
       "    <tr>\n",
       "      <th>min</th>\n",
       "      <td>1.000000</td>\n",
       "      <td>1.000000</td>\n",
       "      <td>5.000000</td>\n",
       "      <td>5.000000</td>\n",
       "      <td>10.000000</td>\n",
       "      <td>20.000000</td>\n",
       "      <td>5.000000</td>\n",
       "      <td>1.00000</td>\n",
       "    </tr>\n",
       "    <tr>\n",
       "      <th>25%</th>\n",
       "      <td>184.750000</td>\n",
       "      <td>50.000000</td>\n",
       "      <td>55.000000</td>\n",
       "      <td>50.000000</td>\n",
       "      <td>49.750000</td>\n",
       "      <td>50.000000</td>\n",
       "      <td>45.000000</td>\n",
       "      <td>2.00000</td>\n",
       "    </tr>\n",
       "    <tr>\n",
       "      <th>50%</th>\n",
       "      <td>364.500000</td>\n",
       "      <td>65.000000</td>\n",
       "      <td>75.000000</td>\n",
       "      <td>70.000000</td>\n",
       "      <td>65.000000</td>\n",
       "      <td>70.000000</td>\n",
       "      <td>65.000000</td>\n",
       "      <td>3.00000</td>\n",
       "    </tr>\n",
       "    <tr>\n",
       "      <th>75%</th>\n",
       "      <td>539.250000</td>\n",
       "      <td>80.000000</td>\n",
       "      <td>100.000000</td>\n",
       "      <td>90.000000</td>\n",
       "      <td>95.000000</td>\n",
       "      <td>90.000000</td>\n",
       "      <td>90.000000</td>\n",
       "      <td>5.00000</td>\n",
       "    </tr>\n",
       "    <tr>\n",
       "      <th>max</th>\n",
       "      <td>721.000000</td>\n",
       "      <td>255.000000</td>\n",
       "      <td>190.000000</td>\n",
       "      <td>230.000000</td>\n",
       "      <td>194.000000</td>\n",
       "      <td>230.000000</td>\n",
       "      <td>180.000000</td>\n",
       "      <td>6.00000</td>\n",
       "    </tr>\n",
       "  </tbody>\n",
       "</table>\n",
       "</div>"
      ],
      "text/plain": [
       "                #          HP      Attack     Defense     Sp. Atk     Sp. Def  \\\n",
       "count  800.000000  800.000000  800.000000  800.000000  800.000000  800.000000   \n",
       "mean   362.813750   69.258750   79.001250   73.842500   72.820000   71.902500   \n",
       "std    208.343798   25.534669   32.457366   31.183501   32.722294   27.828916   \n",
       "min      1.000000    1.000000    5.000000    5.000000   10.000000   20.000000   \n",
       "25%    184.750000   50.000000   55.000000   50.000000   49.750000   50.000000   \n",
       "50%    364.500000   65.000000   75.000000   70.000000   65.000000   70.000000   \n",
       "75%    539.250000   80.000000  100.000000   90.000000   95.000000   90.000000   \n",
       "max    721.000000  255.000000  190.000000  230.000000  194.000000  230.000000   \n",
       "\n",
       "            Speed  Generation  \n",
       "count  800.000000   800.00000  \n",
       "mean    68.277500     3.32375  \n",
       "std     29.060474     1.66129  \n",
       "min      5.000000     1.00000  \n",
       "25%     45.000000     2.00000  \n",
       "50%     65.000000     3.00000  \n",
       "75%     90.000000     5.00000  \n",
       "max    180.000000     6.00000  "
      ]
     },
     "execution_count": 4,
     "metadata": {},
     "output_type": "execute_result"
    }
   ],
   "source": [
    "pokemon_df.describe()"
   ]
  },
  {
   "cell_type": "markdown",
   "metadata": {},
   "source": [
    "### Variability"
   ]
  },
  {
   "cell_type": "code",
   "execution_count": 5,
   "metadata": {},
   "outputs": [
    {
     "name": "stdout",
     "output_type": "stream",
     "text": [
      "651.2042984374999\n",
      "25.518704873827353\n",
      "30.0\n",
      "15.0\n",
      "80.0\n"
     ]
    }
   ],
   "source": [
    "print(np.var(pokemon_df['HP'])) #Variance\n",
    "print(np.std(pokemon_df['HP'] )) # Standard Deviation\n",
    "print(stats.iqr(pokemon_df['HP'])) #IQR\n",
    "print(stats.median_abs_deviation(pokemon_df['HP'])) #MAD\n",
    "print(np.percentile(pokemon_df['HP'],75)) #percentile calc"
   ]
  },
  {
   "cell_type": "markdown",
   "metadata": {},
   "source": [
    "### Correlation"
   ]
  },
  {
   "cell_type": "markdown",
   "metadata": {},
   "source": [
    "#### Covariance "
   ]
  },
  {
   "cell_type": "markdown",
   "metadata": {},
   "source": [
    "Measures a relationship between two variables. Output of greater than 0 is a positive relationship. 0 represents independence. Less than 0 is a negative relationship. However, the magnitude of the output is arbitrary and does not represent the strength of the relationship. That is what the correlation coeffecient is for."
   ]
  },
  {
   "cell_type": "markdown",
   "metadata": {},
   "source": [
    "<img src=\"img/covariance_formula.svg\" alt=\"Covariance Formulat\" width=\"500\"  style=\"float:left\"/>"
   ]
  },
  {
   "cell_type": "code",
   "execution_count": 6,
   "metadata": {},
   "outputs": [
    {
     "data": {
      "text/plain": [
       "array([[ 652.01932259,  350.0685122 ],\n",
       "       [ 350.0685122 , 1053.48059919]])"
      ]
     },
     "execution_count": 6,
     "metadata": {},
     "output_type": "execute_result"
    }
   ],
   "source": [
    "np.cov(pokemon_df['HP'],pokemon_df['Attack'])"
   ]
  },
  {
   "cell_type": "markdown",
   "metadata": {},
   "source": [
    "#### Correlation"
   ]
  },
  {
   "cell_type": "markdown",
   "metadata": {},
   "source": [
    "This is what is used to measure the strength of a relationship."
   ]
  },
  {
   "cell_type": "markdown",
   "metadata": {},
   "source": [
    "<img src=\"img/correlation_coefficient_formula.svg\" alt=\"Correlation Formula\" width=\"500\"  style=\"float:left\"/>"
   ]
  },
  {
   "cell_type": "code",
   "execution_count": 7,
   "metadata": {},
   "outputs": [
    {
     "data": {
      "text/plain": [
       "(0.4223860287762231, 5.8889743583107866e-36)"
      ]
     },
     "execution_count": 7,
     "metadata": {},
     "output_type": "execute_result"
    }
   ],
   "source": [
    "# Linear relationship between two variables\n",
    "# How much variability in y can be explained by x\n",
    "# returns r value [0] and two tailed p-value [1]\n",
    "\n",
    "stats.pearsonr(pokemon_df['HP'],pokemon_df['Attack'])"
   ]
  },
  {
   "cell_type": "code",
   "execution_count": 8,
   "metadata": {},
   "outputs": [
    {
     "data": {
      "text/plain": [
       "<AxesSubplot:>"
      ]
     },
     "execution_count": 8,
     "metadata": {},
     "output_type": "execute_result"
    },
    {
     "data": {
      "image/png": "[encoded data removed]",
      "text/plain": [
       "<Figure size 576x432 with 2 Axes>"
      ]
     },
     "metadata": {
      "needs_background": "light"
     },
     "output_type": "display_data"
    }
   ],
   "source": [
    "# Can use seaborn to make correlation matrices\n",
    "plt.figure(figsize=(8,6))\n",
    "sns.set_context('paper',font_scale=1.4)\n",
    "\n",
    "# creating a correlation matrix\n",
    "poke_mx=pokemon_df.corr()\n",
    "\n",
    "# making it heat map\n",
    "sns.heatmap(poke_mx, annot=True, cmap='Blues')\n",
    "\n",
    "# Note HP and Attack have a value of 0.42 which calced above"
   ]
  },
  {
   "cell_type": "markdown",
   "metadata": {},
   "source": [
    "## Data and Sampling Distributions"
   ]
  },
  {
   "cell_type": "markdown",
   "metadata": {},
   "source": [
    "### Getting a sample"
   ]
  },
  {
   "cell_type": "code",
   "execution_count": 9,
   "metadata": {},
   "outputs": [],
   "source": [
    "# random_state is just the seed\n",
    "# generally best practice to always replace = True, can be ignored occassionally if sample is >10% of population\n",
    "sample=pokemon_df.sample(n=80, random_state=5, replace = True)"
   ]
  },
  {
   "cell_type": "markdown",
   "metadata": {},
   "source": [
    "## Sampling Distributions and Standard Errors"
   ]
  },
  {
   "cell_type": "markdown",
   "metadata": {},
   "source": [
    "The sampling distribution is the distribution of all theoretical samples that could be taken from a population. In other words, it effectively represents all outcomes that could occur from a sample. \n",
    "\n",
    "The Central Limit Theorem states that regardless of the populations distribution, that for a summary statistic applied to a random sample, the sampling distribution of this summary statistic will approximate a normal distribution. This is a powerful statement. As it means that, for example, when average a randomly selected sample, you can tell that the average (mean) that you've calculated falls on a normal distribution that is centered around the true mean of the population. Obviously, the larger the sample closer the sampling distribution will approximate the true value."
   ]
  },
  {
   "cell_type": "code",
   "execution_count": 10,
   "metadata": {},
   "outputs": [
    {
     "data": {
      "text/plain": [
       "Text(0.5, 1.0, 'Sampling Distribution of a Summary Statistic')"
      ]
     },
     "execution_count": 10,
     "metadata": {},
     "output_type": "execute_result"
    },
    {
     "data": {
      "image/png": "[encoded data removed]",
      "text/plain": [
       "<Figure size 432x288 with 1 Axes>"
      ]
     },
     "metadata": {
      "needs_background": "light"
     },
     "output_type": "display_data"
    }
   ],
   "source": [
    "x_axis = np.arange(-4, 4, 0.001)\n",
    "# Mean = 0, SD = 1\n",
    "plt.plot(x_axis, stats.norm.pdf(x_axis,0,1))\n",
    "plt.axis('Off')\n",
    "plt.title('Sampling Distribution of a Summary Statistic')"
   ]
  },
  {
   "cell_type": "markdown",
   "metadata": {},
   "source": [
    "The standard deviation of the sampling distribution is known as the standard error. This can be used to measure the accuracy of the summary statistic applied to a sample. Better yet, you don't need to know the sampling distribution to calculate this, as we can approximate it's value from the sample. This is because determinig the true sampling distribution is often incredibly resource consuming, if not down-right impossible."
   ]
  },
  {
   "cell_type": "markdown",
   "metadata": {},
   "source": [
    "<img src=\"img/standard_error.svg\" alt=\"standad error\" width=\"100\"  style=\"float:left\"/>"
   ]
  },
  {
   "cell_type": "markdown",
   "metadata": {},
   "source": [
    "Where the numerator, theta, is equal to the sample's standard deviation, which is defined as follows. Note that we use N-1 instead of simply N. The intuitive explanation is that the \"normal\" standard deviation calculated from the sample as an estimate of the standard deviation of the population from which the sample was drawn. Because the observed values fall, on average, closer to the sample mean than to the population mean, the standard deviation which is calculated using deviations from the sample mean underestimates the desired standard deviation of the population. Using n−1 instead of n as the divisor corrects for that by making the result a little bit bigger."
   ]
  },
  {
   "cell_type": "markdown",
   "metadata": {},
   "source": [
    "<img src=\"img/sample_standard_deviation.svg\" alt=\"sample standard deviation\" width=\"400\"  style=\"float:left\"/>"
   ]
  },
  {
   "cell_type": "code",
   "execution_count": 11,
   "metadata": {},
   "outputs": [
    {
     "name": "stdout",
     "output_type": "stream",
     "text": [
      "The standard error of our sample is 2.205767307436793\n"
     ]
    }
   ],
   "source": [
    "# If you want to look at the standard error of the mean (which is by far the most common), use the following:\n",
    "print(f\"The standard error of our sample is {stats.sem(sample['HP'])}\")"
   ]
  },
  {
   "cell_type": "markdown",
   "metadata": {},
   "source": [
    "The standard error values are incredibly useful when looking at confidence intervals. See below"
   ]
  },
  {
   "cell_type": "markdown",
   "metadata": {},
   "source": [
    "### Boot Strapping"
   ]
  },
  {
   "cell_type": "markdown",
   "metadata": {},
   "source": [
    "The purpose of bootstrapping is to create a approximated view of the sampling distribution. From there, you can determine approximations of the standard, calculate confidence intervals, perform hypothesis testing, and just get a general sense for the data. The process of boot-strapping is to effectively generate an arbitrarily large number of pseudo-samples from the original sample you drew to begin with. This is done by resampling with replacement from your original sample, n number of times, to create new samples. "
   ]
  },
  {
   "cell_type": "code",
   "execution_count": 12,
   "metadata": {},
   "outputs": [],
   "source": [
    "# Bootstrapping by hand, effectively created an infinite number of pseudo-samples from the original sample\n",
    "# calcing the mean of HP \n",
    "\n",
    "# Bootstrapping 1,000 hypothetical samples \n",
    "sample_means=[]\n",
    "\n",
    "for n in range(1000):\n",
    "    iter_mean=[]\n",
    "    for m in range(80):\n",
    "        iter_sample=sample.sample(n=1, replace=True)\n",
    "        iter_mean.append(iter_sample['HP'])\n",
    "    \n",
    "    sample_means.append(np.mean(iter_mean))\n"
   ]
  },
  {
   "cell_type": "code",
   "execution_count": 13,
   "metadata": {},
   "outputs": [
    {
     "name": "stdout",
     "output_type": "stream",
     "text": [
      "Sampling Interval Mean: 68.57536249999998\n",
      "Sampling Interval Std. Error.: 2.2431961070855464\n"
     ]
    },
    {
     "data": {
      "text/plain": [
       "Text(0.5, 1.0, 'Boot Strapped Sampling Distribution of Mean Pokemon HP and True Population Mean')"
      ]
     },
     "execution_count": 13,
     "metadata": {},
     "output_type": "execute_result"
    },
    {
     "data": {
      "image/png": "[encoded data removed]",
      "text/plain": [
       "<Figure size 432x288 with 1 Axes>"
      ]
     },
     "metadata": {
      "needs_background": "light"
     },
     "output_type": "display_data"
    }
   ],
   "source": [
    "#plotting the hist of the mean HP of all 1,000 bootstrapped samples\n",
    "true_mean=np.mean(pokemon_df['HP'])\n",
    "\n",
    "print('Sampling Interval Mean: {}'.format(str(np.mean(sample_means))))\n",
    "print('Sampling Interval Std. Error.: {}'.format(str(np.std(sample_means))))\n",
    "sns.histplot(sample_means, bins=20)\n",
    "plt.axvline(true_mean, color='red')\n",
    "plt.title('Boot Strapped Sampling Distribution of Mean Pokemon HP and True Population Mean')\n",
    "\n",
    "#Note that the true population mean is well within 3 standard deviations, this is relevant to confidence intervals "
   ]
  },
  {
   "cell_type": "markdown",
   "metadata": {},
   "source": [
    "### Confidence Intervals "
   ]
  },
  {
   "cell_type": "markdown",
   "metadata": {},
   "source": [
    "Effectively, all a confidence interval is doing is putting fences up around the mean to say that these fences should capture the \"true\" mean X% of the time. That confidence value of X expands the fences. To determine the fences, all we're doing is measuring out a few standard errors (remember, the higher the confidence the more standard errors) on either side of the sample statistic to generate this."
   ]
  },
  {
   "cell_type": "code",
   "execution_count": 14,
   "metadata": {},
   "outputs": [
    {
     "name": "stdout",
     "output_type": "stream",
     "text": [
      "Scipy calculates our confidence interval as 64.19702999972478 to 72.97797000027523\n",
      "Our manually constructed confidence interval is 64.17596538512642 to 72.9990346148736\n",
      "Our boot-strapped confidence interval is 64.10110778582892 to 73.0738922141711\n"
     ]
    }
   ],
   "source": [
    "# Confidence intervals establish with what confidence have we captured a true populations statistic, given a sampling model\n",
    "# This uses a student t distribtuion\n",
    "# First parameter is confidence, second is degrees of freedom, third is sample mean, and last is standard error \n",
    "\n",
    "interval=stats.t.interval( 0.95, len(sample['HP'])-1, loc=np.mean(sample['HP']), scale=stats.sem(sample['HP']))\n",
    "\n",
    "print('Scipy calculates our confidence interval as {} to {}'.format(interval[0], interval[1]))\n",
    "# To demonstrate this point, I'll add two sample standard errors on either side of the mean of the sample\n",
    "lower_bound=np.mean(sample['HP'])-(2*stats.sem(sample['HP']))\n",
    "upper_bound=np.mean(sample['HP'])+(2*stats.sem(sample['HP']))\n",
    "\n",
    "print('Our manually constructed confidence interval is {} to {}'.format(lower_bound, upper_bound))\n",
    "\n",
    "boot_lower_bound=np.mean(sample['HP'])-(2*np.std(sample_means))\n",
    "boot_upper_bound=np.mean(sample['HP'])+(2*np.std(sample_means))\n",
    "\n",
    "print('Our boot-strapped confidence interval is {} to {}'.format(boot_lower_bound, boot_upper_bound))"
   ]
  },
  {
   "cell_type": "code",
   "execution_count": 15,
   "metadata": {},
   "outputs": [
    {
     "name": "stdout",
     "output_type": "stream",
     "text": [
      "Sampling Interval Mean: 68.57536249999998\n",
      "Sampling Interval Std. Dev.: 2.2431961070855464\n",
      "\n"
     ]
    },
    {
     "data": {
      "image/png": "[encoded data removed]",
      "text/plain": [
       "<Figure size 432x288 with 1 Axes>"
      ]
     },
     "metadata": {
      "needs_background": "light"
     },
     "output_type": "display_data"
    }
   ],
   "source": [
    "# plotting confidence interval over sampling distribution\n",
    "true_mean=np.mean(pokemon_df['HP'])\n",
    "\n",
    "print('Sampling Interval Mean: {}'.format(str(np.mean(sample_means))))\n",
    "\n",
    "# The below is effecitvely approximating the standard error of the sampling statistic\n",
    "# See how it's almost identical to the above 3.4789, note that this can be done with other summary stats \n",
    "print('Sampling Interval Std. Dev.: {}'.format(str(np.std(sample_means))))\n",
    "\n",
    "\n",
    "sns.histplot(sample_means, bins=20)\n",
    "plt.axvline(true_mean, color='red') # True population mean\n",
    "plt.axvline(interval[0], color='blue') #lower bound of interval\n",
    "plt.axvline(interval[1], color='blue') #upper bound of interval\n",
    "plt.title('Sampling Distribution of Mean Pokemon HP and True Population Mean')\n",
    "print('')\n",
    "\n",
    "# We've successfully captured the true population mean in this instance, "
   ]
  },
  {
   "cell_type": "markdown",
   "metadata": {},
   "source": [
    "### Normal Distribution"
   ]
  },
  {
   "cell_type": "code",
   "execution_count": 16,
   "metadata": {},
   "outputs": [
    {
     "data": {
      "text/plain": [
       "Text(0.5, 1.0, 'Normal Distribution')"
      ]
     },
     "execution_count": 16,
     "metadata": {},
     "output_type": "execute_result"
    },
    {
     "data": {
      "image/png": "[encoded data removed]",
      "text/plain": [
       "<Figure size 432x288 with 1 Axes>"
      ]
     },
     "metadata": {
      "needs_background": "light"
     },
     "output_type": "display_data"
    }
   ],
   "source": [
    "# Recall the central limit theorem, the larger the sample size, the closer the sampling distribution will approximate this\n",
    "# Plot between -10 and 10 with .001 steps.\n",
    "x_axis = np.arange(-4, 4, 0.001)\n",
    "# Mean = 0, SD = 1\n",
    "plt.plot(x_axis, stats.norm.pdf(x_axis,0,1))\n",
    "plt.title('Normal Distribution')"
   ]
  },
  {
   "cell_type": "markdown",
   "metadata": {},
   "source": [
    "### Other Distributions"
   ]
  },
  {
   "cell_type": "code",
   "execution_count": 17,
   "metadata": {},
   "outputs": [
    {
     "data": {
      "text/plain": [
       "Text(0.5, 1.0, 'T Distribution')"
      ]
     },
     "execution_count": 17,
     "metadata": {},
     "output_type": "execute_result"
    },
    {
     "data": {
      "image/png": "[encoded data removed]",
      "text/plain": [
       "<Figure size 432x288 with 1 Axes>"
      ]
     },
     "metadata": {
      "needs_background": "light"
     },
     "output_type": "display_data"
    }
   ],
   "source": [
    "# Student-T Model\n",
    "# has longer tails, more for smaller sample sizes or for when the population variance is unknown\n",
    "\n",
    "x_axis = np.arange(-4, 4, 0.001)\n",
    "# Mean = 0, SD = 1\n",
    "plt.plot(x_axis, stats.t.pdf(x_axis,1))\n",
    "plt.title('T Distribution')"
   ]
  },
  {
   "cell_type": "code",
   "execution_count": 18,
   "metadata": {},
   "outputs": [
    {
     "data": {
      "text/plain": [
       "Text(0.5, 1.0, 'Binomial Distribution')"
      ]
     },
     "execution_count": 18,
     "metadata": {},
     "output_type": "execute_result"
    },
    {
     "data": {
      "image/png": "[encoded data removed]",
      "text/plain": [
       "<Figure size 432x288 with 1 Axes>"
      ]
     },
     "metadata": {
      "needs_background": "light"
     },
     "output_type": "display_data"
    }
   ],
   "source": [
    "# Binomial Distribution\n",
    "# Used to simulate a series of bernoulli trials (e.g. Yes/No Random events)\n",
    "# n is the number of bernoulli trials and p is the probability of success for each trial \n",
    "x = np.arange(stats.binom.ppf(0.01, n=100, p=.5),\n",
    "              stats.binom.ppf(0.99, n=100, p=.5))\n",
    "# Mean = 0, SD = 1\n",
    "plt.plot(x, stats.binom.pmf(x ,n=100,p=.5))\n",
    "plt.title('Binomial Distribution')"
   ]
  },
  {
   "cell_type": "markdown",
   "metadata": {},
   "source": [
    "## Statistical Experiments and Significance Testing"
   ]
  },
  {
   "cell_type": "markdown",
   "metadata": {},
   "source": [
    "So you have a sample, and you can calulate some basic things about your sample. So, now what? Well now you can perform tests on you sample. Follow the below flowchart to determine what you should be doing. This section is dedicated to testing. However, the regression portion of the following flowchart is addressed in the model_walkthrough.ipynb."
   ]
  },
  {
   "cell_type": "markdown",
   "metadata": {},
   "source": [
    "<img src=\"img/test_flowchart.png\" alt=\"Testing Flow Chart\" width=\"700\"  style=\"float:left\"/>"
   ]
  },
  {
   "cell_type": "markdown",
   "metadata": {},
   "source": [
    "### A/B Testing"
   ]
  },
  {
   "cell_type": "markdown",
   "metadata": {},
   "source": [
    "Used to test the efficacy of some sort of a treatment, A or B. It starts by randomly allocating a sample in to two groups, on group who is given a treatment and the control. You then monitor the efficacy of the treatment group and compare it to the control group.\n",
    "\n",
    "For this example, we'll assume we have some form of treatment that claims to have a chance of converting a normal Pokemon to a Legendary Pokemon. No Pokemon were harmed in this evaluation.\n"
   ]
  },
  {
   "cell_type": "code",
   "execution_count": 19,
   "metadata": {},
   "outputs": [
    {
     "name": "stdout",
     "output_type": "stream",
     "text": [
      "Proportion of Legendary in control: 0.13\n",
      "Proportion of Legendary in treatment: 0.19\n"
     ]
    }
   ],
   "source": [
    "# Setting some base parameters\n",
    "sample_size=100\n",
    "alpha=.20\n",
    "no_of_trials=5000\n",
    "\n",
    "# treatment efficacy; in reality, you wouldn't know this, but this treatment has 7% chance of upgrading to a legendary\n",
    "p=.10\n",
    "\n",
    "# Generating a sample and apply treatment\n",
    "population=pokemon_df[['Name','Legendary']]\n",
    "\n",
    "control=population.sample(n=sample_size, replace=True, random_state=50)\n",
    "treatment=population.sample(n=sample_size, replace=True, random_state=50)\n",
    "\n",
    "# applying treatment\n",
    "for i, row in treatment.iterrows():\n",
    "    if row[1]==False:\n",
    "        treatment.at[i,'Legendary']=np.random.choice([True, False], p=[p, 1-p])\n",
    "\n",
    "#Conversion rates\n",
    "control_perc=np.sum(control['Legendary'])/sample_size\n",
    "treatment_perc=np.sum(treatment['Legendary'])/sample_size\n",
    "\n",
    "\n",
    "print('''Proportion of Legendary in control: {}\n",
    "Proportion of Legendary in treatment: {}'''.format(control_perc, treatment_perc))\n"
   ]
  },
  {
   "cell_type": "code",
   "execution_count": 20,
   "metadata": {},
   "outputs": [],
   "source": [
    "# Permutation Test\n",
    "# Now that we have two samples, both control and treatement, we're going to \n",
    "# bootstrap a sampling distribution representing the differnce in the proportion of legendary Pokemon\n",
    "\n",
    "bootstrap=[]\n",
    "combined_samples=pd.concat([control, treatment], ignore_index=True)\n",
    "\n",
    "for n in range(no_of_trials):\n",
    "    iter_control=combined_samples.sample(n=sample_size, replace=True)\n",
    "    iter_treatment=combined_samples.sample(n=sample_size, replace=True)\n",
    "    \n",
    "    perc_diff=(np.sum(iter_treatment['Legendary'])/sample_size)-(np.sum(iter_control['Legendary'])/sample_size)\n",
    "    bootstrap.append(perc_diff)\n"
   ]
  },
  {
   "cell_type": "code",
   "execution_count": 21,
   "metadata": {},
   "outputs": [
    {
     "name": "stdout",
     "output_type": "stream",
     "text": [
      "P-value: 0.146\n",
      "Reject Null-Hypothesis; Treatment is effective.\n"
     ]
    },
    {
     "data": {
      "image/png": "[encoded data removed]",
      "text/plain": [
       "<Figure size 432x288 with 1 Axes>"
      ]
     },
     "metadata": {
      "needs_background": "light"
     },
     "output_type": "display_data"
    }
   ],
   "source": [
    "# Now let's plot the bootstrap to demonstrate how likely it was we saw the treatment proportion\n",
    "\n",
    "sns.histplot(bootstrap, bins=20)\n",
    "plt.axvline((treatment_perc-control_perc), color='red') # difference we observed in the treatment vs control\n",
    "plt.title('Sampling Distribution of Differences in Treatment and Control Group Legendary Percentages')\n",
    "\n",
    "# Since this is a permutation test, we can derive a p-value by looking at our bootstrap population\n",
    "success_bootstrap=[x for x in bootstrap if x>=(treatment_perc-control_perc)]\n",
    "\n",
    "p_value=len(success_bootstrap)/no_of_trials\n",
    "\n",
    "print('P-value: {}'.format(p_value))\n",
    "if p_value>alpha:\n",
    "    print('Accept Null-Hypothesis; Treatment is ineffective.')\n",
    "else:\n",
    "    print('Reject Null-Hypothesis; Treatment is effective.')"
   ]
  },
  {
   "cell_type": "markdown",
   "metadata": {},
   "source": [
    "Of course, as this is Python, there are simpler ways to calculate the p-value. In this case, we'll use a T-test to recalculate the difference between groups A and B above, the treatment and control."
   ]
  },
  {
   "cell_type": "code",
   "execution_count": 22,
   "metadata": {},
   "outputs": [
    {
     "name": "stdout",
     "output_type": "stream",
     "text": [
      "T-Test P-Value of our Samples: 0.249339835590857\n"
     ]
    }
   ],
   "source": [
    "# In this case we'll be doing a \n",
    "test=stats.ttest_ind(control['Legendary'],treatment['Legendary'])\n",
    "\n",
    "t_test_p_value=test[1]\n",
    "\n",
    "print('T-Test P-Value of our Samples: {}'.format(t_test_p_value))\n",
    "\n",
    "# With that p-value from the t-test, it is pretty close to our p-value from the permuation test"
   ]
  },
  {
   "cell_type": "markdown",
   "metadata": {},
   "source": [
    "### T-Tests"
   ]
  },
  {
   "cell_type": "markdown",
   "metadata": {},
   "source": [
    "T-Tests are useful for comparing samples to some sort of understood population summary statistic or comparing samples to one another. Furthermore, T-tests are great as they generally allow for smaller sample sizes and you don't need to know the population variance. "
   ]
  },
  {
   "cell_type": "markdown",
   "metadata": {},
   "source": [
    "#### One Sample T-Test"
   ]
  },
  {
   "cell_type": "markdown",
   "metadata": {},
   "source": [
    "In this instance, you're comparing a sample to some sort of \"known\" metric. A classic example is toxicity levels in tap water. Let's say that the EPA recommends a 0.05 mg/L or below for safe potable water thresholds. You take a few samples of your water and want statistical evidence that the levels of selenium are either safe or unsafe.\n",
    "\n",
    "For our example, let's continue with the pokemon context. Let's say Professor Oak is interested in regions that have high concentrations of pokemon with uncharacteristically high or low defense. You are in a particular region and what to determine if this region of interest to Professor Oak. So you measure the defense of the first 20 pokemon you encounter (assumed random sampling), and calculate a one-sample test. We know that the average population mean defense is about 73. Professor oak wants to be fairly certain is a interesting region, so assume an alpha of .05."
   ]
  },
  {
   "cell_type": "code",
   "execution_count": 23,
   "metadata": {},
   "outputs": [
    {
     "name": "stdout",
     "output_type": "stream",
     "text": [
      "The mean of our sample is 75.1\n"
     ]
    }
   ],
   "source": [
    "reg_df=pokemon_df.sample(n=20, random_state=10, replace = True)['Defense']\n",
    "\n",
    "population_mean=73.842500\n",
    "\n",
    "print('The mean of our sample is {}'.format(np.mean(reg_df)))"
   ]
  },
  {
   "cell_type": "code",
   "execution_count": 24,
   "metadata": {},
   "outputs": [
    {
     "data": {
      "text/plain": [
       "Ttest_1sampResult(statistic=0.18841921479970247, pvalue=0.8525459311327118)"
      ]
     },
     "execution_count": 24,
     "metadata": {},
     "output_type": "execute_result"
    }
   ],
   "source": [
    "# To calculate the probability that the mean of defense from the observed sample is the same as the greater population\n",
    "# we do a two-tail test, which means that the mean might significantly higher or lower\n",
    "\n",
    "stats.ttest_1samp(reg_df, popmean=population_mean)"
   ]
  },
  {
   "cell_type": "markdown",
   "metadata": {},
   "source": [
    "As you can see, the pvalue is incredibly high. This makes sense as the sample we took was just from the general population, which we would expect to see adhereing closely to the mean. The additional value provdied as \"statistic\" is the t-value. This indicates if our sample is generally higher than the mean or lower.\n",
    "\n",
    "Note that if we were interested in doing a one sided t-test, as in if we were interested in seeing if the region we were in was much higher than the average, we would simply take the p-value divided by two. We can do this because the t distribution is symmetric. Additionally, we would have to ensure that the t-stat is positive, in the instance of our sample mean being higher than the overall population, or negative if lower. "
   ]
  },
  {
   "cell_type": "markdown",
   "metadata": {},
   "source": [
    "#### Two Sample T-Test"
   ]
  },
  {
   "cell_type": "markdown",
   "metadata": {},
   "source": [
    "Two sample T-Tests are useful for seeing if two samples are meaningful different. In this instance, the null hypothesis is that both populations have the same mean. There is one thing to keep in mind when doing this, which is whether the samples are paired or unpaired. Paired data points represent the same instance observed at a later time. For example, this would include whether a treatment is effective at reducing blood pressure where you would measure a patient before and after treatments. In this instance, you would subtract each pair to create a sample of the delta between paired points, and then do a 1 sample t-test with null hypothesis of mean=0. \n",
    "\n",
    "Unpaired data represents completely independent data. In this instance you would properly use a two-sample t-test. In our context of pokemon, let's say we sample randomly 20 pokemon from 2 different regions. We would like to know whether attack of these two different regions are meaningul different from one another. Let's assume an alpha of .20."
   ]
  },
  {
   "cell_type": "code",
   "execution_count": 55,
   "metadata": {},
   "outputs": [],
   "source": [
    "# Creating our two samples \n",
    "sample_one_df=pokemon_df.sample(n=20, random_state=10, replace = True)[['Name','Attack']]\n",
    "sample_one_df['Sample']='One'\n",
    "\n",
    "sample_two_df=pokemon_df.sample(n=20, random_state=20, replace = True)[['Name','Attack']]\n",
    "sample_two_df['Sample']='Two'\n",
    "\n",
    "sample_comp_df=sample_one_df.append(sample_two_df)"
   ]
  },
  {
   "cell_type": "code",
   "execution_count": 56,
   "metadata": {},
   "outputs": [
    {
     "name": "stdout",
     "output_type": "stream",
     "text": [
      "Sample One has a mean attack of Attack    77.0\n",
      "dtype: float64\n",
      "Sample Two has a mean attack of Attack    83.85\n",
      "dtype: float64\n",
      "\n"
     ]
    },
    {
     "data": {
      "image/png": "[encoded data removed]",
      "text/plain": [
       "<Figure size 429.727x360 with 1 Axes>"
      ]
     },
     "metadata": {
      "needs_background": "light"
     },
     "output_type": "display_data"
    }
   ],
   "source": [
    "print(\"Sample One has a mean attack of {}\".format(np.mean(sample_one_df)))\n",
    "print(\"Sample Two has a mean attack of {}\".format(np.mean(sample_two_df)))\n",
    "\n",
    "# Let's visualize the samples just to get a sense of the difference in means \n",
    "sns.displot(sample_comp_df, x='Attack', hue=\"Sample\", bins=10)\n",
    "plt.title('Sample Comparison of Attack Stat')\n",
    "print('')"
   ]
  },
  {
   "cell_type": "markdown",
   "metadata": {},
   "source": [
    "As you can see, they have fairly clos distributions however Sample Two skews slightly higher. So let's call a two-sample t-test to see if we can claim with statistical that this truly is the case."
   ]
  },
  {
   "cell_type": "code",
   "execution_count": 54,
   "metadata": {},
   "outputs": [
    {
     "data": {
      "text/plain": [
       "Ttest_relResult(statistic=-0.9299816385653339, pvalue=0.3640466177922411)"
      ]
     },
     "execution_count": 54,
     "metadata": {},
     "output_type": "execute_result"
    }
   ],
   "source": [
    "# What's neat about the ttest_rel is that we can pass whether or not we want a one-sided ttest by passing \"less\" or \"greater\" or two-sided by passing just that \n",
    "# In this instance, we just wanted to see if they were meaningfully different, so we just passed two-sided.\n",
    "\n",
    "stats.ttest_rel(a=sample_one_df['Attack'], b=sample_two_df['Attack'], alternative='two-sided')"
   ]
  },
  {
   "cell_type": "markdown",
   "metadata": {},
   "source": [
    "As you can see, the p-value is still higher than our alpha so we conclude these two populations have the same means. Additionally, we see the t-stat is less than 0, which indicates that A (Sample One) has a lower mean that B (Sample Two)."
   ]
  },
  {
   "cell_type": "markdown",
   "metadata": {},
   "source": [
    "### ANOVA"
   ]
  },
  {
   "cell_type": "code",
   "execution_count": 25,
   "metadata": {},
   "outputs": [
    {
     "name": "stdout",
     "output_type": "stream",
     "text": [
      "F_onewayResult(statistic=0.7402315484804632, pvalue=0.4778813822647716)\n"
     ]
    }
   ],
   "source": [
    "# Allows for testing multiple treatments. Note, here are the assumptions necessary\n",
    "#    The samples are independent.\n",
    "#    Each sample is from a normally distributed population.\n",
    "#    The population standard deviations of the groups are all equal. This property is known as homoscedasticity.\n",
    "\n",
    "# efficacy of treatment 2\n",
    "p_2=.05\n",
    "\n",
    "treatment_2=population.sample(n=sample_size, replace=True, random_state=50)\n",
    "\n",
    "for i, row in treatment_2.iterrows():\n",
    "    if row[1]==False:\n",
    "        treatment_2.at[i,'Legendary']=np.random.choice([True, False], p=[p_2, 1-p_2])\n",
    "        \n",
    "anova=stats.f_oneway(control['Legendary'], treatment['Legendary'], treatment_2['Legendary'])\n",
    "print(anova)\n",
    "\n",
    "#The P-Value here represents the probability of null hypothesis (all samples have the same proportion) being true"
   ]
  },
  {
   "cell_type": "markdown",
   "metadata": {},
   "source": [
    "### Chi Square Tests"
   ]
  },
  {
   "cell_type": "markdown",
   "metadata": {},
   "source": [
    "Chi-Square Tests are useful for evaluating patterns in the data. Effectively, Chi-Square tests evaluate whether or not our expected pattern is showing up in the data. This can be used for very specific, user-defined patterns, or just for overall independence between categorical variables. In these instances, somewhat counter-intuitively, our null hypothesis is that the data matches our given expectation or pattern."
   ]
  },
  {
   "cell_type": "markdown",
   "metadata": {},
   "source": [
    "#### Evaluating Independence"
   ]
  },
  {
   "cell_type": "markdown",
   "metadata": {},
   "source": [
    "The Chi-Square test is incredibly useful in evaluating whether or not two (or more) categorical variables are independent. This is done by taking the independent row and colum totals to predict what each expected value is. So for our context, we'll see if Type 1 and Type 2 are truly independent, in regard to HP. To cut down on calculations, we'll look at Type 1 Normal and Poison and Type 2 Flying and Grass. Assume an alpha value of 0.05\n",
    "\n",
    "In this context, we assume independence is (r x c)/g where r is the total row amount, c is the total column amount, and g is the total observations. We apply this as the expected value for each cell"
   ]
  },
  {
   "cell_type": "code",
   "execution_count": 181,
   "metadata": {},
   "outputs": [
    {
     "data": {
      "text/html": [
       "<div>\n",
       "<style scoped>\n",
       "    .dataframe tbody tr th:only-of-type {\n",
       "        vertical-align: middle;\n",
       "    }\n",
       "\n",
       "    .dataframe tbody tr th {\n",
       "        vertical-align: top;\n",
       "    }\n",
       "\n",
       "    .dataframe thead th {\n",
       "        text-align: right;\n",
       "    }\n",
       "</style>\n",
       "<table border=\"1\" class=\"dataframe\">\n",
       "  <thead>\n",
       "    <tr style=\"text-align: right;\">\n",
       "      <th>Type 2</th>\n",
       "      <th>Flying</th>\n",
       "      <th>Grass</th>\n",
       "    </tr>\n",
       "    <tr>\n",
       "      <th>Type 1</th>\n",
       "      <th></th>\n",
       "      <th></th>\n",
       "    </tr>\n",
       "  </thead>\n",
       "  <tbody>\n",
       "    <tr>\n",
       "      <th>Normal</th>\n",
       "      <td>24.0</td>\n",
       "      <td>2.0</td>\n",
       "    </tr>\n",
       "    <tr>\n",
       "      <th>Poison</th>\n",
       "      <td>3.0</td>\n",
       "      <td>0.0</td>\n",
       "    </tr>\n",
       "  </tbody>\n",
       "</table>\n",
       "</div>"
      ],
      "text/plain": [
       "Type 2  Flying  Grass\n",
       "Type 1               \n",
       "Normal    24.0    2.0\n",
       "Poison     3.0    0.0"
      ]
     },
     "execution_count": 181,
     "metadata": {},
     "output_type": "execute_result"
    }
   ],
   "source": [
    "type_mx=pokemon_df.pivot_table(index='Type 1', columns='Type 2', values='HP', aggfunc='count')\n",
    "type_mx=type_mx.fillna(0)\n",
    "type_mx\n",
    "\n",
    "type_mx=type_mx[['Flying','Grass']].iloc[12:14]"
   ]
  },
  {
   "cell_type": "code",
   "execution_count": 183,
   "metadata": {},
   "outputs": [
    {
     "data": {
      "text/plain": [
       "Power_divergenceResult(statistic=0.24786324786324787, pvalue=0.8834402449882273)"
      ]
     },
     "execution_count": 183,
     "metadata": {},
     "output_type": "execute_result"
    }
   ],
   "source": [
    "expected =[((26*27)/29),((26*2)/29),((3*27)/29),((3*2)/29)]\n",
    "obs=[24,2,3,0]\n",
    "\n",
    "stats.chisquare(f_obs=obs, f_exp=expected, ddof=1)"
   ]
  },
  {
   "cell_type": "markdown",
   "metadata": {},
   "source": [
    "In this instance, we see that the p-value is still quite high despite the fact that we see substantial variation between the observed categories. We're forced to conclude that the values are independent. However, if we would like to continue exploring this relationship, we would have to conduct more statistical tests."
   ]
  },
  {
   "cell_type": "markdown",
   "metadata": {},
   "source": [
    "#### Evaluating Patterns"
   ]
  },
  {
   "cell_type": "markdown",
   "metadata": {},
   "source": [
    "In our context of pokemon, imagine we're looking at aerial photograph of where our pokemon are being observed. We can count how many pokemon we observe in each square kilometer to determine if we should believe that pokemon are gathering around areas of potential interest. In this instance, we will assume the null hpyothesis is that the pokemon are randomly distributed in each square kilometer. We will observing 9 square kilometeres for the sake of simplicity and we will see 50 in this region. We will also assume an alpha of .05.\n",
    "\n",
    "Note that we could do any arbitrary pattern as opposed to a random distribution as well."
   ]
  },
  {
   "cell_type": "code",
   "execution_count": 162,
   "metadata": {},
   "outputs": [
    {
     "data": {
      "text/plain": [
       "(0.0, 3.0)"
      ]
     },
     "execution_count": 162,
     "metadata": {},
     "output_type": "execute_result"
    },
    {
     "data": {
      "image/png": "[encoded data removed]",
      "text/plain": [
       "<Figure size 576x576 with 1 Axes>"
      ]
     },
     "metadata": {
      "needs_background": "light"
     },
     "output_type": "display_data"
    }
   ],
   "source": [
    "#first we'll have to make some data to represent our pokemon observations\n",
    "#1289073\n",
    "rd.seed(1289073)\n",
    "\n",
    "x=[]\n",
    "y=[]\n",
    "\n",
    "for _ in range(50):\n",
    "    x.append((rd.randrange(0,300)/100))\n",
    "    y.append((rd.randrange(0,300)/100))\n",
    "    \n",
    "geo_obs=pd.DataFrame({'x_coords':x , 'y_coords':y})\n",
    "\n",
    "# rounding down to show which square they are in for purposes of comparison\n",
    "geo_obs['x_round']=0\n",
    "geo_obs['y_round']=0\n",
    "\n",
    "geo_obs['x_round']=geo_obs['x_coords'].apply(lambda x: int(x))\n",
    "geo_obs['y_round']=geo_obs['y_coords'].apply(lambda y: int(y))\n",
    "\n",
    "# Let's plot the distribution as well just to visualize\n",
    "\n",
    "plt.figure(figsize=(8,8))\n",
    "sns.scatterplot(data=geo_obs, x='x_coords', y='y_coords')\n",
    "plt.title('Observations of Pokemon in the Wild')\n",
    "\n",
    "for x in range(0,3):\n",
    "    plt.axvline((x+1), color='black')\n",
    "    plt.axhline((x+1), color='black')\n",
    "    \n",
    "plt.xlim(0,3)\n",
    "plt.ylim(0,3)"
   ]
  },
  {
   "cell_type": "markdown",
   "metadata": {},
   "source": [
    "It looks like there might be a slight preference by observed Pokemon to be towards the left, or if we assume northern orientation, towards the west. Additionally, we're seeing almost no pokemon in the northeast. However, we should check that the distribution we're seeing is truly what not just random distribution."
   ]
  },
  {
   "cell_type": "code",
   "execution_count": 163,
   "metadata": {},
   "outputs": [],
   "source": [
    "# First let's count the number of observations per quadrant\n",
    "\n",
    "count_pd=geo_obs.groupby(['x_round','y_round']).agg({'x_coords':'count'})\n",
    "count_pd=count_pd.reset_index()\n",
    "\n",
    "count_list=count_pd['x_coords'].values.tolist()\n",
    "\n",
    "# now let's establish our expectations\n",
    "observations=50\n",
    "quadrants=9\n",
    "\n",
    "exp=[]\n",
    "for _ in range(0,9):\n",
    "    exp.append(int(50/9))"
   ]
  },
  {
   "cell_type": "code",
   "execution_count": 164,
   "metadata": {},
   "outputs": [
    {
     "data": {
      "text/plain": [
       "Power_divergenceResult(statistic=24.2, pvalue=0.0021213165966357784)"
      ]
     },
     "execution_count": 164,
     "metadata": {},
     "output_type": "execute_result"
    }
   ],
   "source": [
    "stats.chisquare(f_obs=count_list, f_exp=exp)"
   ]
  },
  {
   "cell_type": "markdown",
   "metadata": {},
   "source": [
    "Uh-oh looks like we got a p-value below our alpha of 0.5. So in this instance, we would assume there is a tendency of the animals distribution that is not truly random. However, because we defined their distribution, we know that distribution was determined randomly. In this instance, we're getting an error. Specifically, a Type 1 Error."
   ]
  },
  {
   "cell_type": "markdown",
   "metadata": {},
   "source": [
    "### Errors"
   ]
  },
  {
   "cell_type": "markdown",
   "metadata": {},
   "source": [
    "I'll take a quick moment to discuss error types. Errors are bound to occur when practicing statistics. Remember, the interpretation of the alpha is the threshold of random chance we consider too low to be mere chance. In other words, we observe over a one-in-X chance of our sample occurring, it's likely we didn't just get lucky. However, sometimes we do get lucky (or unlucky). \n",
    "\n",
    "There are two types of errors. The first being we accidently assume something interesting is happening when in reality it is not. The second is when we ignore the interesting findings when in reality we shouldn't have. Note these are merely loose explanations of the practical application, these errors are purely based of the P-value and the established alpha. There is a handy chart below we can use to determine the type of error we get. We must always consider that perhaps we had arrived at an error. In the above example, we arrived at a Type I error. Additional testing can help increase our assurance that we are concluding correctly."
   ]
  },
  {
   "cell_type": "code",
   "execution_count": 171,
   "metadata": {},
   "outputs": [
    {
     "data": {
      "text/html": [
       "<div>\n",
       "<style scoped>\n",
       "    .dataframe tbody tr th:only-of-type {\n",
       "        vertical-align: middle;\n",
       "    }\n",
       "\n",
       "    .dataframe tbody tr th {\n",
       "        vertical-align: top;\n",
       "    }\n",
       "\n",
       "    .dataframe thead th {\n",
       "        text-align: right;\n",
       "    }\n",
       "</style>\n",
       "<table border=\"1\" class=\"dataframe\">\n",
       "  <thead>\n",
       "    <tr style=\"text-align: right;\">\n",
       "      <th></th>\n",
       "      <th>Conclusion</th>\n",
       "      <th>Null Hypothesis is True (Reject Alternative)</th>\n",
       "      <th>Alternative Hypothesis is True (Reject Null)</th>\n",
       "    </tr>\n",
       "  </thead>\n",
       "  <tbody>\n",
       "    <tr>\n",
       "      <th>0</th>\n",
       "      <td>Accept Alternative Hypothesis (Reject Null)</td>\n",
       "      <td>Type I Error</td>\n",
       "      <td>Correct Conclusion</td>\n",
       "    </tr>\n",
       "    <tr>\n",
       "      <th>1</th>\n",
       "      <td>Accept Null Hypothesis (Reject Alternative)</td>\n",
       "      <td>Correct Conclusion</td>\n",
       "      <td>Type II Error</td>\n",
       "    </tr>\n",
       "  </tbody>\n",
       "</table>\n",
       "</div>"
      ],
      "text/plain": [
       "                                    Conclusion  \\\n",
       "0  Accept Alternative Hypothesis (Reject Null)   \n",
       "1  Accept Null Hypothesis (Reject Alternative)   \n",
       "\n",
       "  Null Hypothesis is True (Reject Alternative)  \\\n",
       "0                                 Type I Error   \n",
       "1                           Correct Conclusion   \n",
       "\n",
       "  Alternative Hypothesis is True (Reject Null)  \n",
       "0                           Correct Conclusion  \n",
       "1                                Type II Error  "
      ]
     },
     "execution_count": 171,
     "metadata": {},
     "output_type": "execute_result"
    }
   ],
   "source": [
    "errors=pd.DataFrame({'Conclusion':['Accept Alternative Hypothesis (Reject Null)','Accept Null Hypothesis (Reject Alternative)'],\n",
    "                     'Null Hypothesis is True (Reject Alternative)':['Type I Error', 'Correct Conclusion'],\n",
    "                     'Alternative Hypothesis is True (Reject Null)':['Correct Conclusion','Type II Error']})\n",
    "\n",
    "errors"
   ]
  }
 ],
 "metadata": {
  "kernelspec": {
   "display_name": "data_science_notes",
   "language": "python",
   "name": "data_science_notes"
  },
  "language_info": {
   "codemirror_mode": {
    "name": "ipython",
    "version": 3
   },
   "file_extension": ".py",
   "mimetype": "text/x-python",
   "name": "python",
   "nbconvert_exporter": "python",
   "pygments_lexer": "ipython3",
   "version": "3.7.3"
  }
 },
 "nbformat": 4,
 "nbformat_minor": 5
}
