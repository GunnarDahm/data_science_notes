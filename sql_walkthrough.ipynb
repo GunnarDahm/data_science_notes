{
 "cells": [
  {
   "cell_type": "markdown",
   "metadata": {},
   "source": [
    "# SQL Walkthrough"
   ]
  },
  {
   "cell_type": "markdown",
   "metadata": {},
   "source": [
    "SQL, often pronounced \"Sequel\", stands for structured query language. This language is still one of the most common ways of interfacing with databases of any sort. This language is used for constructing tables with databases, updating information, and pulling down data in bulk."
   ]
  },
  {
   "cell_type": "markdown",
   "metadata": {},
   "source": [
    "## Relational Databases"
   ]
  },
  {
   "cell_type": "markdown",
   "metadata": {},
   "source": [
    "Before we get started, it's important to talk about what a relational database is. A relational database effectivelly a collection of different tables that are connected together through keys. Effectively, each table will have \"keys\" that connect the columns in one table to another table, by matching the values in the key columns. Some databases are structred in a proper table format while other database systems will masqerade themselves as collection of tables.\n",
    "\n",
    "See below for an example of a entity relationhip diagram (ERD) that demonstrates a collection of tables and how they relate to one another. In this context, how a bookstore might set up their database. Each box represents a table. The items in the box represents each column contained therein. The key symbol represents the primary key for each table, and the lines show the relationships between tables.\n",
    "\n",
    "<img src=\"img/relationship_example.png\" alt=\"Covariance Formulat\" width=\"600\"  style=\"float:left\"/>"
   ]
  },
  {
   "cell_type": "markdown",
   "metadata": {},
   "source": [
    "## Basic Query Structure "
   ]
  },
  {
   "cell_type": "markdown",
   "metadata": {},
   "source": [
    "### Retrieving Data"
   ]
  },
  {
   "cell_type": "markdown",
   "metadata": {},
   "source": [
    "Effectively all data pulls you will conduct using SQL will follow the SELECT FROM format. In other words, this structure:\n",
    "\n",
    "```\n",
    "SELECT \n",
    "    column_a as \"A\",\n",
    "    column_b as \"B\",\n",
    "    column_c as \"C\"\n",
    "FROM table\n",
    " \n",
    "WHERE\n",
    "    column_a > 5\n",
    "    AND\n",
    "    column_b = \"Test\"\n",
    "\n",
    "ORDER BY \n",
    "    column_b DESC,\n",
    "    column_c\n",
    "```\n",
    "\n",
    "The SELECT keyword specifies which columns we would like returned. FROM specifies which table these columns are coming from. WHERE is used to add conditional logic on which rows, or \"records\", are returned. Notice how multiple conditions can be applied "
   ]
  },
  {
   "cell_type": "markdown",
   "metadata": {},
   "source": [
    "### Joins"
   ]
  },
  {
   "cell_type": "markdown",
   "metadata": {},
   "source": [
    "### Aggregation"
   ]
  },
  {
   "cell_type": "markdown",
   "metadata": {},
   "source": [
    "# Advanced Functions"
   ]
  },
  {
   "cell_type": "markdown",
   "metadata": {},
   "source": [
    "### With Clauses "
   ]
  },
  {
   "cell_type": "markdown",
   "metadata": {},
   "source": [
    "### Sub-Selects"
   ]
  },
  {
   "cell_type": "markdown",
   "metadata": {},
   "source": [
    "### Window Functions"
   ]
  }
 ],
 "metadata": {
  "kernelspec": {
   "display_name": "data_science_notes",
   "language": "python",
   "name": "data_science_notes"
  },
  "language_info": {
   "codemirror_mode": {
    "name": "ipython",
    "version": 3
   },
   "file_extension": ".py",
   "mimetype": "text/x-python",
   "name": "python",
   "nbconvert_exporter": "python",
   "pygments_lexer": "ipython3",
   "version": "3.7.3"
  }
 },
 "nbformat": 4,
 "nbformat_minor": 4
}
