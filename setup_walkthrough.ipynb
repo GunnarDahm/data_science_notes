{
 "cells": [
  {
   "cell_type": "markdown",
   "metadata": {},
   "source": [
    "# Setup Walkthrough"
   ]
  },
  {
   "cell_type": "markdown",
   "metadata": {},
   "source": [
    "The purpose of this notebook is simply to outline some of the miscellaneous steps and best-practices when starting and maintaining an analytics project."
   ]
  },
  {
   "cell_type": "markdown",
   "metadata": {},
   "source": [
    "## Virtual Environments\n",
    "\n",
    "Virtual environments are contained instances that house the static libraries necessary to run a project. These are useful for maintaining version control of libraries that may deprecate certain features your project relies on. This is standard practice to create one for each project you work.\n",
    "\n",
    "### Jupyter notebooks \n",
    "If you're simply doing a project with some jupyter notebooks, you'll have to make your own virtual environment. Do so by entering the following into the command line: \n",
    "\n",
    "`python3 -m venv /path/to/new/virtual/environment`\n",
    "\n",
    "Once setup, you should see a folder called \"venv\" in your project folder. Activate the venv, cd into your directory and enter:\n",
    "\n",
    "`venv\\Scripts\\activate`\n",
    "\n",
    "The command prompt should show `(venv)` before your current directory now. Now any pack you install with pip will be locally install and maintained. \n",
    "\n",
    "### IDE's \n",
    "If you're working in a full IDE like PyCharm or VSCode, the IDE will take care of this step for you when create the project."
   ]
  },
  {
   "cell_type": "markdown",
   "metadata": {},
   "source": [
    "## Git and Github"
   ]
  },
  {
   "cell_type": "markdown",
   "metadata": {},
   "source": [
    "As a crash course on Git and Github, Git is a version control system that is practically ubiquitous in software development. Git just synchronizes changes made to code when multiple individuals are working on the same project. Github comes in to house the projects (called repositories or repo's) online.  These two technologies are the standard practice to house code and share code between systems. The following information will assume you have Git and Github already setup.\n",
    "\n",
    "### Starting a Project\n",
    "\n",
    "To create a project, login onto Github and create a new repository. To link your new repo to your local project, cd into your project's directory and input the following commands in to command line:\n",
    "\n",
    "`git init\n",
    "git remote add origin https://github.com/your_username_here/repo_name.git\n",
    "`\n",
    "\n",
    "It's best practice to have README.md with every project. This serves as a summary of your poject, outlining what the project seeks to accomplish and what tech you will need to actually run the thing. You can create one by simply creating a .txt file and renaming the extension. As for formatting, see below for the Markdown overview. \n",
    "\n",
    "\n",
    "### Adding Files and Making Changes\n",
    "Once you have made changes to a file or have created a new file, you can the push these changes to repo you've created. Started by adding all necessary files by using following command (Repeat as necessary):\n",
    "\n",
    "`git add file.extension`\n",
    "\n",
    "Once you've added all the necessary \n",
    "`git commit -m \"description of what changes you've made\"\n",
    "git branch -M main\n",
    "git push -u origin main`"
   ]
  }
 ],
 "metadata": {
  "kernelspec": {
   "display_name": "Python 3",
   "language": "python",
   "name": "python3"
  },
  "language_info": {
   "codemirror_mode": {
    "name": "ipython",
    "version": 3
   },
   "file_extension": ".py",
   "mimetype": "text/x-python",
   "name": "python",
   "nbconvert_exporter": "python",
   "pygments_lexer": "ipython3",
   "version": "3.7.3"
  }
 },
 "nbformat": 4,
 "nbformat_minor": 2
}
